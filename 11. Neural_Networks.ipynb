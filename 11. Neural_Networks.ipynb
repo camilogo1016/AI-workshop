{
 "cells": [
  {
   "cell_type": "markdown",
   "metadata": {},
   "source": [
    "# Reconocimiento de números escritos a mano"
   ]
  },
  {
   "cell_type": "markdown",
   "metadata": {},
   "source": [
    "### Usando TensorFlow"
   ]
  },
  {
   "cell_type": "code",
   "execution_count": 2,
   "metadata": {},
   "outputs": [],
   "source": [
    "import tensorflow as tf\n",
    "import random\n",
    "import numpy as np\n",
    "import matplotlib.pyplot as plt"
   ]
  },
  {
   "cell_type": "code",
   "execution_count": 3,
   "metadata": {},
   "outputs": [],
   "source": [
    "(images_train, labels_train), (images_test, labels_test) = tf.keras.datasets.mnist.load_data(path='mnist.npz')"
   ]
  },
  {
   "cell_type": "markdown",
   "metadata": {},
   "source": [
    "* Las imágenes de entrenamiento de MNIST viven en un espacio vectorial dimensión 784 (28x28)\n",
    "* El Dataset se puede pensar como 60.000 filas y 784 columnas\n",
    "* Cada dato del Dataset es un número real entre 0-1 que indica el valor de luz en el pixel"
   ]
  },
  {
   "cell_type": "code",
   "execution_count": 4,
   "metadata": {},
   "outputs": [],
   "source": [
    "labels_train_encoded = tf.keras.utils.to_categorical(labels_train, num_classes=10)"
   ]
  },
  {
   "cell_type": "markdown",
   "metadata": {},
   "source": [
    "## Se crea el modelo como una secuencia de capas"
   ]
  },
  {
   "cell_type": "markdown",
   "metadata": {},
   "source": [
    "*Las redes neuronales, en cada nodo tienen una función de activación que se aplica luego de la operación matemática con los nodos de la capa anterior, es decir"
   ]
  },
  {
   "cell_type": "markdown",
   "metadata": {},
   "source": [
    "![Proceso de red neuronal](https://upload.wikimedia.org/wikipedia/commons/b/b0/Perceptr%C3%B3n_5_unidades.svg)"
   ]
  },
  {
   "cell_type": "markdown",
   "metadata": {},
   "source": [
    "![Funciones de activación](https://revistas.uexternado.edu.co/index.php/odeon/article/download/4414/5256/19827)"
   ]
  },
  {
   "cell_type": "code",
   "execution_count": 5,
   "metadata": {},
   "outputs": [],
   "source": [
    "model1 = tf.keras.Sequential([\n",
    "    \n",
    "    tf.keras.layers.Flatten(input_shape=(28, 28)),  #Se aplanan los datos para que sea un vector de 784\n",
    "    tf.keras.layers.Dense(128, activation='relu'),  #Se elige una capa de 128 nodos con función de activación 'Relu'\n",
    "    tf.keras.layers.Dense(10)                       #Capa de salida con 10 opciones de clasificación\n",
    "    \n",
    "])\n",
    "\n",
    "model1.compile(optimizer='adam',\n",
    "              loss=tf.keras.losses.SparseCategoricalCrossentropy(from_logits=True),  #Es la función de pérdidas\n",
    "              metrics=['accuracy'])"
   ]
  },
  {
   "cell_type": "markdown",
   "metadata": {},
   "source": [
    "### Se ajusta el modelo con nuestros datos"
   ]
  },
  {
   "cell_type": "code",
   "execution_count": 6,
   "metadata": {},
   "outputs": [
    {
     "name": "stdout",
     "output_type": "stream",
     "text": [
      "Epoch 1/7\n",
      "1875/1875 [==============================] - 15s 8ms/step - loss: 2.5694 - accuracy: 0.8666E - - ETA: 0s - loss: 2.5775 - accuracy: 0.\n",
      "Epoch 2/7\n",
      "1875/1875 [==============================] - 15s 8ms/step - loss: 0.3802 - accuracy: 0.9109 0s -\n",
      "Epoch 3/7\n",
      "1875/1875 [==============================] - 14s 7ms/step - loss: 0.2913 - accuracy: 0.9269 0s - loss: 0.2\n",
      "Epoch 4/7\n",
      "1875/1875 [==============================] - 10s 5ms/step - loss: 0.2505 - accuracy: 0.9369\n",
      "Epoch 5/7\n",
      "1875/1875 [==============================] - 9s 5ms/step - loss: 0.2333 - accuracy: 0.9427\n",
      "Epoch 6/7\n",
      "1875/1875 [==============================] - 8s 4ms/step - loss: 0.2207 - accuracy: 0.9450: 0s - los\n",
      "Epoch 7/7\n",
      "1875/1875 [==============================] - 12s 7ms/step - loss: 0.1970 - accuracy: 0.9505 3s - loss: - ETA: 2s - loss: 0.195\n"
     ]
    },
    {
     "data": {
      "text/plain": [
       "<tensorflow.python.keras.callbacks.History at 0x1cbe482cd48>"
      ]
     },
     "execution_count": 6,
     "metadata": {},
     "output_type": "execute_result"
    }
   ],
   "source": [
    "model1.fit(images_train, labels_train, epochs=7)"
   ]
  },
  {
   "cell_type": "markdown",
   "metadata": {},
   "source": [
    "### Evaluar el modelo"
   ]
  },
  {
   "cell_type": "code",
   "execution_count": 7,
   "metadata": {},
   "outputs": [
    {
     "name": "stdout",
     "output_type": "stream",
     "text": [
      "1875/1875 - 9s - loss: 0.1496 - accuracy: 0.9577\n"
     ]
    }
   ],
   "source": [
    "#Para el Training set\n",
    "test_loss, test_accuracy = model1.evaluate(images_train, labels_train, verbose=2)"
   ]
  },
  {
   "cell_type": "code",
   "execution_count": 8,
   "metadata": {},
   "outputs": [
    {
     "name": "stdout",
     "output_type": "stream",
     "text": [
      "313/313 - 2s - loss: 0.2477 - accuracy: 0.9455\n"
     ]
    }
   ],
   "source": [
    "#Para el Testing set\n",
    "test_loss, test_accuracy = model1.evaluate(images_test, labels_test, verbose=2)"
   ]
  },
  {
   "cell_type": "markdown",
   "metadata": {},
   "source": [
    "### Generamos la matriz de predicciones"
   ]
  },
  {
   "cell_type": "code",
   "execution_count": 9,
   "metadata": {},
   "outputs": [],
   "source": [
    "#Generamos un tensor de predicciones\n",
    "predictions = tf.keras.Sequential([model1,                     #Capa del modelo\n",
    "                                  tf.keras.layers.Softmax()])  #Capa final para red neuronal para predecir clases"
   ]
  },
  {
   "cell_type": "code",
   "execution_count": 10,
   "metadata": {},
   "outputs": [],
   "source": [
    "#Ajustamos el tensor para los datos de training y testing set\n",
    "predictions_test = predictions.predict(images_test)\n",
    "predictions_train = predictions.predict(images_train)"
   ]
  },
  {
   "cell_type": "markdown",
   "metadata": {},
   "source": [
    "### Graficar predicciones Vs. Reales"
   ]
  },
  {
   "cell_type": "code",
   "execution_count": 11,
   "metadata": {},
   "outputs": [],
   "source": [
    "N = 16\n",
    "rand_imag_test = random.sample(range(0, len(images_test)), N)\n",
    "predictions_test = np.argmax(predictions_test, axis=1)\n",
    "\n",
    "rand_imag_train = random.sample(range(0, len(images_train)), N)\n",
    "predictions_train = np.argmax(predictions_train, axis=1)"
   ]
  },
  {
   "cell_type": "markdown",
   "metadata": {},
   "source": [
    "* Para testing set"
   ]
  },
  {
   "cell_type": "code",
   "execution_count": 12,
   "metadata": {},
   "outputs": [
    {
     "data": {
      "image/png": "[encoded data removed]",
      "text/plain": [
       "<Figure size 720x504 with 16 Axes>"
      ]
     },
     "metadata": {
      "needs_background": "light"
     },
     "output_type": "display_data"
    }
   ],
   "source": [
    "plt.figure(figsize=(10,7))\n",
    "pos=1\n",
    "\n",
    "for i in rand_imag_test:\n",
    "        temp_ = images_test[i]\n",
    "        val_real = labels_test[i]\n",
    "        val_predi = predictions_test[i]\n",
    "        \n",
    "        plt.subplot(4, 4, pos)\n",
    "        plt.axis(\"off\")\n",
    "        plt.imshow(temp_, cmap=\"gray\")\n",
    "        pos += 1\n",
    "        \n",
    "        color_guess = \"green\" if val_real==val_predi else \"red\"\n",
    "        plt.text(32,15, \"Real: {0} \\nPredicción: {1}\".format(val_real, val_predi), fontsize=12, color= color_guess)\n",
    "        #print(\"Forma:{0}, min:{1}, max:{2}\".format(temp_ima.shape, temp_ima.min(), temp_ima.max()))\n",
    "        plt.subplots_adjust(wspace=1.5)\n",
    "plt.show()"
   ]
  },
  {
   "cell_type": "markdown",
   "metadata": {},
   "source": [
    "* Para testing set"
   ]
  },
  {
   "cell_type": "code",
   "execution_count": 13,
   "metadata": {},
   "outputs": [
    {
     "data": {
      "image/png": "[encoded data removed]",
      "text/plain": [
       "<Figure size 720x504 with 16 Axes>"
      ]
     },
     "metadata": {
      "needs_background": "light"
     },
     "output_type": "display_data"
    }
   ],
   "source": [
    "plt.figure(figsize=(10,7))\n",
    "pos=1\n",
    "\n",
    "for i in rand_imag_test:\n",
    "        temp_ = images_train[i]\n",
    "        val_real = labels_train[i]\n",
    "        val_predi = predictions_train[i]\n",
    "        \n",
    "        plt.subplot(4, 4, pos)\n",
    "        plt.axis(\"off\")\n",
    "        plt.imshow(temp_, cmap=\"gray\")\n",
    "        pos += 1\n",
    "        \n",
    "        color_guess = \"green\" if val_real==val_predi else \"red\"\n",
    "        plt.text(32,15, \"Real: {0} \\nPredicción: {1}\".format(val_real, val_predi), fontsize=12, color= color_guess)\n",
    "        #print(\"Forma:{0}, min:{1}, max:{2}\".format(temp_ima.shape, temp_ima.min(), temp_ima.max()))\n",
    "        plt.subplots_adjust(wspace=1.5)\n",
    "plt.show()"
   ]
  },
  {
   "cell_type": "code",
   "execution_count": null,
   "metadata": {},
   "outputs": [],
   "source": []
  },
  {
   "cell_type": "code",
   "execution_count": null,
   "metadata": {},
   "outputs": [],
   "source": []
  }
 ],
 "metadata": {
  "kernelspec": {
   "display_name": "Python 3",
   "language": "python",
   "name": "python3"
  },
  "language_info": {
   "codemirror_mode": {
    "name": "ipython",
    "version": 3
   },
   "file_extension": ".py",
   "mimetype": "text/x-python",
   "name": "python",
   "nbconvert_exporter": "python",
   "pygments_lexer": "ipython3",
   "version": "3.7.4"
  }
 },
 "nbformat": 4,
 "nbformat_minor": 2
}
