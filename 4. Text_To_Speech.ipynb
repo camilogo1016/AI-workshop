{
 "cells": [
  {
   "cell_type": "markdown",
   "metadata": {
    "colab_type": "text",
    "id": "BcnMIwsP985U"
   },
   "source": [
    "# Texto a Voz Usando gTTS"
   ]
  },
  {
   "cell_type": "markdown",
   "metadata": {
    "colab_type": "text",
    "id": "CE_iLSyC9_Mn"
   },
   "source": [
    "## 1. Importar librería gTTS (Google Text-to-speech)"
   ]
  },
  {
   "cell_type": "code",
   "execution_count": 1,
   "metadata": {
    "colab": {
     "base_uri": "https://localhost:8080/",
     "height": 360
    },
    "colab_type": "code",
    "executionInfo": {
     "elapsed": 7306,
     "status": "ok",
     "timestamp": 1597257416244,
     "user": {
      "displayName": "Camilo Gomez",
      "photoUrl": "https://lh3.googleusercontent.com/a-/AOh14Gg0G7H-J8JrAasYtQVEhwRBb8syiDoxr_TKsawFVA=s64",
      "userId": "16922193631229167566"
     },
     "user_tz": 300
    },
    "id": "oUdMa8jf-Ima",
    "outputId": "9d425f2a-9d82-412e-e881-1072b71dcd90"
   },
   "outputs": [],
   "source": [
    "#!pip install gtts\n",
    "#!pip install pygame"
   ]
  },
  {
   "cell_type": "code",
   "execution_count": 2,
   "metadata": {
    "colab": {},
    "colab_type": "code",
    "executionInfo": {
     "elapsed": 7606,
     "status": "ok",
     "timestamp": 1597257416571,
     "user": {
      "displayName": "Camilo Gomez",
      "photoUrl": "https://lh3.googleusercontent.com/a-/AOh14Gg0G7H-J8JrAasYtQVEhwRBb8syiDoxr_TKsawFVA=s64",
      "userId": "16922193631229167566"
     },
     "user_tz": 300
    },
    "id": "6iOAntQB-Dah"
   },
   "outputs": [
    {
     "name": "stdout",
     "output_type": "stream",
     "text": [
      "pygame 1.9.6\n",
      "Hello from the pygame community. https://www.pygame.org/contribute.html\n"
     ]
    }
   ],
   "source": [
    "from gtts import gTTS \n",
    "\n",
    "from pygame import mixer #Para reproducir el archivo"
   ]
  },
  {
   "cell_type": "markdown",
   "metadata": {
    "colab_type": "text",
    "id": "hcTmK_w7-ZRO"
   },
   "source": [
    "## 2. Ingresar el texto y lenguaje a traducir"
   ]
  },
  {
   "cell_type": "code",
   "execution_count": 3,
   "metadata": {
    "colab": {},
    "colab_type": "code",
    "executionInfo": {
     "elapsed": 7594,
     "status": "ok",
     "timestamp": 1597257416573,
     "user": {
      "displayName": "Camilo Gomez",
      "photoUrl": "https://lh3.googleusercontent.com/a-/AOh14Gg0G7H-J8JrAasYtQVEhwRBb8syiDoxr_TKsawFVA=s64",
      "userId": "16922193631229167566"
     },
     "user_tz": 300
    },
    "id": "WL73UbWr9w2y"
   },
   "outputs": [],
   "source": [
    "text = 'Welcome to the A.I. workshop!'\n",
    "\n",
    "# Language in which you want to convert \n",
    "lang = 'en'"
   ]
  },
  {
   "cell_type": "markdown",
   "metadata": {
    "colab_type": "text",
    "id": "6a7Bk5UE-42K"
   },
   "source": [
    "# 3. Crear el objeto del paquete gTTS"
   ]
  },
  {
   "cell_type": "code",
   "execution_count": 4,
   "metadata": {
    "colab": {},
    "colab_type": "code",
    "executionInfo": {
     "elapsed": 7881,
     "status": "ok",
     "timestamp": 1597257416922,
     "user": {
      "displayName": "Camilo Gomez",
      "photoUrl": "https://lh3.googleusercontent.com/a-/AOh14Gg0G7H-J8JrAasYtQVEhwRBb8syiDoxr_TKsawFVA=s64",
      "userId": "16922193631229167566"
     },
     "user_tz": 300
    },
    "id": "i6yIKVwV-0Qa"
   },
   "outputs": [],
   "source": [
    "myobj = gTTS(text=text, lang=lang, slow=False) \n",
    "\n",
    "# Saving the converted audio in a mp3 file named \n",
    "\n",
    "myobj.save(\"speech.mp3\") "
   ]
  },
  {
   "cell_type": "code",
   "execution_count": 9,
   "metadata": {},
   "outputs": [],
   "source": [
    "mixer.init()\n",
    "mixer.music.load('speech.mp3')\n",
    "mixer.music.play()"
   ]
  },
  {
   "cell_type": "markdown",
   "metadata": {
    "colab_type": "text",
    "id": "j71tuYgcIObA"
   },
   "source": [
    "## 4. Hacerlo en otro idioma (en otros idiomas tienen en su mayoría sólo 1 voz)"
   ]
  },
  {
   "cell_type": "code",
   "execution_count": 6,
   "metadata": {
    "colab": {},
    "colab_type": "code",
    "executionInfo": {
     "elapsed": 7835,
     "status": "ok",
     "timestamp": 1597257416926,
     "user": {
      "displayName": "Camilo Gomez",
      "photoUrl": "https://lh3.googleusercontent.com/a-/AOh14Gg0G7H-J8JrAasYtQVEhwRBb8syiDoxr_TKsawFVA=s64",
      "userId": "16922193631229167566"
     },
     "user_tz": 300
    },
    "id": "MIkfTWo3Bntd"
   },
   "outputs": [],
   "source": [
    "texto = 'Bienvenidos al taller de inteligencia artificial, una visión general!' \n",
    "\n",
    "# Language in which you want to convert \n",
    "leng = 'es-us'"
   ]
  },
  {
   "cell_type": "code",
   "execution_count": 7,
   "metadata": {
    "colab": {},
    "colab_type": "code",
    "executionInfo": {
     "elapsed": 8746,
     "status": "ok",
     "timestamp": 1597257417847,
     "user": {
      "displayName": "Camilo Gomez",
      "photoUrl": "https://lh3.googleusercontent.com/a-/AOh14Gg0G7H-J8JrAasYtQVEhwRBb8syiDoxr_TKsawFVA=s64",
      "userId": "16922193631229167566"
     },
     "user_tz": 300
    },
    "id": "uEbsgNnrB5Ld"
   },
   "outputs": [],
   "source": [
    "miobje = gTTS(text=texto, lang=leng, slow=False) \n",
    "\n",
    "miobje.save(\"voz.mp3\")"
   ]
  },
  {
   "cell_type": "code",
   "execution_count": 10,
   "metadata": {},
   "outputs": [],
   "source": [
    "mixer.init()\n",
    "mixer.music.load('voz.mp3')\n",
    "mixer.music.play()"
   ]
  },
  {
   "cell_type": "code",
   "execution_count": null,
   "metadata": {},
   "outputs": [],
   "source": []
  }
 ],
 "metadata": {
  "colab": {
   "authorship_tag": "ABX9TyPJ+rpGVHBQBLafI8o1o1Tb",
   "collapsed_sections": [],
   "name": "4. Text_To_Speech.ipynb",
   "provenance": [],
   "toc_visible": true
  },
  "kernelspec": {
   "display_name": "Python 3",
   "language": "python",
   "name": "python3"
  },
  "language_info": {
   "codemirror_mode": {
    "name": "ipython",
    "version": 3
   },
   "file_extension": ".py",
   "mimetype": "text/x-python",
   "name": "python",
   "nbconvert_exporter": "python",
   "pygments_lexer": "ipython3",
   "version": "3.7.4"
  }
 },
 "nbformat": 4,
 "nbformat_minor": 1
}
