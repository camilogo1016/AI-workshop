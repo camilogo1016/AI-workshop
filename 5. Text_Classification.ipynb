{
 "cells": [
  {
   "cell_type": "markdown",
   "metadata": {
    "colab_type": "text",
    "id": "UJ2Br8JarhXY"
   },
   "source": [
    "# Clasificador de Texto usando `sklearn`"
   ]
  },
  {
   "cell_type": "markdown",
   "metadata": {
    "colab_type": "text",
    "id": "TbRjUsOStFZW"
   },
   "source": [
    "## Se importa el paquete `fetch_20newsgroups` de sklearn, el cual contiene un dataset clasificado para 20 grupos de correos"
   ]
  },
  {
   "cell_type": "code",
   "execution_count": 1,
   "metadata": {
    "colab": {
     "base_uri": "https://localhost:8080/",
     "height": 51
    },
    "colab_type": "code",
    "executionInfo": {
     "elapsed": 11149,
     "status": "ok",
     "timestamp": 1597257421792,
     "user": {
      "displayName": "Camilo Gomez",
      "photoUrl": "https://lh3.googleusercontent.com/a-/AOh14Gg0G7H-J8JrAasYtQVEhwRBb8syiDoxr_TKsawFVA=s64",
      "userId": "16922193631229167566"
     },
     "user_tz": 300
    },
    "id": "Q4vsASbPrcOp",
    "outputId": "b7b7524b-edd1-49be-fca5-75c0fc04fe9b"
   },
   "outputs": [],
   "source": [
    "#Loading the data set - training data.\n",
    "from sklearn.datasets import fetch_20newsgroups\n",
    "twenty_train = fetch_20newsgroups(subset='train', shuffle=True)"
   ]
  },
  {
   "cell_type": "markdown",
   "metadata": {
    "colab_type": "text",
    "id": "bXzPwsfetRvp"
   },
   "source": [
    "## Los grupos de correos del paquete son:"
   ]
  },
  {
   "cell_type": "code",
   "execution_count": 2,
   "metadata": {
    "colab": {
     "base_uri": "https://localhost:8080/",
     "height": 357
    },
    "colab_type": "code",
    "executionInfo": {
     "elapsed": 11114,
     "status": "ok",
     "timestamp": 1597257421794,
     "user": {
      "displayName": "Camilo Gomez",
      "photoUrl": "https://lh3.googleusercontent.com/a-/AOh14Gg0G7H-J8JrAasYtQVEhwRBb8syiDoxr_TKsawFVA=s64",
      "userId": "16922193631229167566"
     },
     "user_tz": 300
    },
    "id": "yGYdDIorrcOw",
    "outputId": "84844b1e-3557-4b3d-ebca-b1ee089b96d6"
   },
   "outputs": [
    {
     "data": {
      "text/plain": [
       "['alt.atheism',\n",
       " 'comp.graphics',\n",
       " 'comp.os.ms-windows.misc',\n",
       " 'comp.sys.ibm.pc.hardware',\n",
       " 'comp.sys.mac.hardware',\n",
       " 'comp.windows.x',\n",
       " 'misc.forsale',\n",
       " 'rec.autos',\n",
       " 'rec.motorcycles',\n",
       " 'rec.sport.baseball',\n",
       " 'rec.sport.hockey',\n",
       " 'sci.crypt',\n",
       " 'sci.electronics',\n",
       " 'sci.med',\n",
       " 'sci.space',\n",
       " 'soc.religion.christian',\n",
       " 'talk.politics.guns',\n",
       " 'talk.politics.mideast',\n",
       " 'talk.politics.misc',\n",
       " 'talk.religion.misc']"
      ]
     },
     "execution_count": 2,
     "metadata": {},
     "output_type": "execute_result"
    }
   ],
   "source": [
    "# You can check the target names (categories) and some data files by following commands.\n",
    "twenty_train.target_names #prints all the categories"
   ]
  },
  {
   "cell_type": "markdown",
   "metadata": {
    "colab_type": "text",
    "id": "Uq7oqmjIusmz"
   },
   "source": [
    "## Analizar el tipo de datos"
   ]
  },
  {
   "cell_type": "markdown",
   "metadata": {
    "colab_type": "text",
    "id": "qSI1ndqotdkO"
   },
   "source": [
    "### El intro y el formato del correo es de la siguiente manera"
   ]
  },
  {
   "cell_type": "code",
   "execution_count": 3,
   "metadata": {
    "colab": {
     "base_uri": "https://localhost:8080/",
     "height": 68
    },
    "colab_type": "code",
    "executionInfo": {
     "elapsed": 11101,
     "status": "ok",
     "timestamp": 1597257421795,
     "user": {
      "displayName": "Camilo Gomez",
      "photoUrl": "https://lh3.googleusercontent.com/a-/AOh14Gg0G7H-J8JrAasYtQVEhwRBb8syiDoxr_TKsawFVA=s64",
      "userId": "16922193631229167566"
     },
     "user_tz": 300
    },
    "id": "8cW29mgVrcOz",
    "outputId": "31c9c618-e4b2-44b3-8e51-b5d279cd149f"
   },
   "outputs": [
    {
     "name": "stdout",
     "output_type": "stream",
     "text": [
      "From: guykuo@carson.u.washington.edu (Guy Kuo)\n",
      "Subject: SI Clock Poll - Final Call\n",
      "Summary: Final call for SI clock reports\n"
     ]
    }
   ],
   "source": [
    "print(\"\\n\".join(twenty_train.data[1].split(\"\\n\")[:3])) #prints first line of the first data file"
   ]
  },
  {
   "cell_type": "code",
   "execution_count": 4,
   "metadata": {
    "colab": {
     "base_uri": "https://localhost:8080/",
     "height": 120
    },
    "colab_type": "code",
    "executionInfo": {
     "elapsed": 11084,
     "status": "ok",
     "timestamp": 1597257421796,
     "user": {
      "displayName": "Camilo Gomez",
      "photoUrl": "https://lh3.googleusercontent.com/a-/AOh14Gg0G7H-J8JrAasYtQVEhwRBb8syiDoxr_TKsawFVA=s64",
      "userId": "16922193631229167566"
     },
     "user_tz": 300
    },
    "id": "3WXhGlHvrcO1",
    "outputId": "5c3278b1-55bb-4cc6-883a-84deb7db9502"
   },
   "outputs": [
    {
     "data": {
      "text/plain": [
       "\"From: guykuo@carson.u.washington.edu (Guy Kuo)\\nSubject: SI Clock Poll - Final Call\\nSummary: Final call for SI clock reports\\nKeywords: SI,acceleration,clock,upgrade\\nArticle-I.D.: shelley.1qvfo9INNc3s\\nOrganization: University of Washington\\nLines: 11\\nNNTP-Posting-Host: carson.u.washington.edu\\n\\nA fair number of brave souls who upgraded their SI clock oscillator have\\nshared their experiences for this poll. Please send a brief message detailing\\nyour experiences with the procedure. Top speed attained, CPU rated speed,\\nadd on cards and adapters, heat sinks, hour of usage per day, floppy disk\\nfunctionality with 800 and 1.4 m floppies are especially requested.\\n\\nI will be summarizing in the next two days, so please add to the network\\nknowledge base if you have done the clock upgrade and haven't answered this\\npoll. Thanks.\\n\\nGuy Kuo <guykuo@u.washington.edu>\\n\""
      ]
     },
     "execution_count": 4,
     "metadata": {},
     "output_type": "execute_result"
    }
   ],
   "source": [
    "twenty_train.data[1]"
   ]
  },
  {
   "cell_type": "markdown",
   "metadata": {
    "colab_type": "text",
    "id": "MkvIAkKJu16h"
   },
   "source": [
    "## Se cuentan las palabras del texto y se vectoriza"
   ]
  },
  {
   "cell_type": "code",
   "execution_count": 5,
   "metadata": {
    "colab": {
     "base_uri": "https://localhost:8080/",
     "height": 34
    },
    "colab_type": "code",
    "executionInfo": {
     "elapsed": 13829,
     "status": "ok",
     "timestamp": 1597257424556,
     "user": {
      "displayName": "Camilo Gomez",
      "photoUrl": "https://lh3.googleusercontent.com/a-/AOh14Gg0G7H-J8JrAasYtQVEhwRBb8syiDoxr_TKsawFVA=s64",
      "userId": "16922193631229167566"
     },
     "user_tz": 300
    },
    "id": "0t3QHJQZrcO7",
    "outputId": "84fdc192-e780-4f94-cfac-b11a6ee4f6fa"
   },
   "outputs": [
    {
     "data": {
      "text/plain": [
       "(11314, 130107)"
      ]
     },
     "execution_count": 5,
     "metadata": {},
     "output_type": "execute_result"
    }
   ],
   "source": [
    "# Extracting features from text files\n",
    "from sklearn.feature_extraction.text import CountVectorizer\n",
    "count_vect = CountVectorizer()\n",
    "X_train_counts = count_vect.fit_transform(twenty_train.data)\n",
    "X_train_counts.shape"
   ]
  },
  {
   "cell_type": "markdown",
   "metadata": {
    "colab_type": "text",
    "id": "iyzjAiaAvmGz"
   },
   "source": [
    "### El TF-IDF es un parámetro de conteo de palabras según la extensión relativa del documento, para evitar mayor influencia de muchas palabras repetidas en un documento extenso"
   ]
  },
  {
   "cell_type": "code",
   "execution_count": 6,
   "metadata": {
    "colab": {
     "base_uri": "https://localhost:8080/",
     "height": 34
    },
    "colab_type": "code",
    "executionInfo": {
     "elapsed": 13811,
     "status": "ok",
     "timestamp": 1597257424560,
     "user": {
      "displayName": "Camilo Gomez",
      "photoUrl": "https://lh3.googleusercontent.com/a-/AOh14Gg0G7H-J8JrAasYtQVEhwRBb8syiDoxr_TKsawFVA=s64",
      "userId": "16922193631229167566"
     },
     "user_tz": 300
    },
    "id": "yAyaZdDKrcPA",
    "outputId": "7d9cb610-e78b-419c-d2b2-64d607dfd554"
   },
   "outputs": [
    {
     "data": {
      "text/plain": [
       "(11314, 130107)"
      ]
     },
     "execution_count": 6,
     "metadata": {},
     "output_type": "execute_result"
    }
   ],
   "source": [
    "# TF-IDF\n",
    "from sklearn.feature_extraction.text import TfidfTransformer\n",
    "tfidf_transformer = TfidfTransformer()\n",
    "X_train_tfidf = tfidf_transformer.fit_transform(X_train_counts)\n",
    "X_train_tfidf.shape"
   ]
  },
  {
   "cell_type": "markdown",
   "metadata": {},
   "source": [
    "# Utilizamos dos métodos diferentes para comparar"
   ]
  },
  {
   "cell_type": "markdown",
   "metadata": {},
   "source": [
    "## Naive Bayes"
   ]
  },
  {
   "cell_type": "markdown",
   "metadata": {
    "colab_type": "text",
    "id": "H3Gkr_zTvxEr"
   },
   "source": [
    "### Se importa el paquete de Naive Bayes, se crea el model y se entrena con el *training set*"
   ]
  },
  {
   "cell_type": "code",
   "execution_count": 7,
   "metadata": {
    "colab": {},
    "colab_type": "code",
    "executionInfo": {
     "elapsed": 14033,
     "status": "ok",
     "timestamp": 1597257424787,
     "user": {
      "displayName": "Camilo Gomez",
      "photoUrl": "https://lh3.googleusercontent.com/a-/AOh14Gg0G7H-J8JrAasYtQVEhwRBb8syiDoxr_TKsawFVA=s64",
      "userId": "16922193631229167566"
     },
     "user_tz": 300
    },
    "id": "es7TT7a2rcPD"
   },
   "outputs": [],
   "source": [
    "# Machine Learning\n",
    "# Training Naive Bayes (NB) classifier on training data.\n",
    "from sklearn.naive_bayes import MultinomialNB\n",
    "clf = MultinomialNB().fit(X_train_tfidf, twenty_train.target)"
   ]
  },
  {
   "cell_type": "code",
   "execution_count": 8,
   "metadata": {
    "colab": {},
    "colab_type": "code",
    "executionInfo": {
     "elapsed": 17165,
     "status": "ok",
     "timestamp": 1597257427924,
     "user": {
      "displayName": "Camilo Gomez",
      "photoUrl": "https://lh3.googleusercontent.com/a-/AOh14Gg0G7H-J8JrAasYtQVEhwRBb8syiDoxr_TKsawFVA=s64",
      "userId": "16922193631229167566"
     },
     "user_tz": 300
    },
    "id": "M5VE27nwrcPF"
   },
   "outputs": [],
   "source": [
    "# Building a pipeline: We can write less code and do all of the above, by building a pipeline as follows:\n",
    "# The names ‘vect’ , ‘tfidf’ and ‘clf’ are arbitrary but will be used later.\n",
    "# We will be using the 'text_clf' going forward.\n",
    "from sklearn.pipeline import Pipeline\n",
    "\n",
    "text_clf = Pipeline([('vect', CountVectorizer()), ('tfidf', TfidfTransformer()), ('clf', MultinomialNB())])\n",
    "\n",
    "text_clf = text_clf.fit(twenty_train.data, twenty_train.target)"
   ]
  },
  {
   "cell_type": "markdown",
   "metadata": {
    "colab_type": "text",
    "id": "0rLH0EWmv7CM"
   },
   "source": [
    "### Se evalúa la exactitud con el *testing set*"
   ]
  },
  {
   "cell_type": "code",
   "execution_count": 9,
   "metadata": {
    "colab": {
     "base_uri": "https://localhost:8080/",
     "height": 34
    },
    "colab_type": "code",
    "executionInfo": {
     "elapsed": 19045,
     "status": "ok",
     "timestamp": 1597257429818,
     "user": {
      "displayName": "Camilo Gomez",
      "photoUrl": "https://lh3.googleusercontent.com/a-/AOh14Gg0G7H-J8JrAasYtQVEhwRBb8syiDoxr_TKsawFVA=s64",
      "userId": "16922193631229167566"
     },
     "user_tz": 300
    },
    "id": "5o-5Owj8rcPI",
    "outputId": "bdfa3b54-3243-4a85-9ecf-a1ae2d84c756"
   },
   "outputs": [
    {
     "data": {
      "text/plain": [
       "0.7738980350504514"
      ]
     },
     "execution_count": 9,
     "metadata": {},
     "output_type": "execute_result"
    }
   ],
   "source": [
    "# Performance of NB Classifier\n",
    "import numpy as np\n",
    "twenty_test = fetch_20newsgroups(subset='test', shuffle=True)\n",
    "predicted = text_clf.predict(twenty_test.data)\n",
    "np.mean(predicted == twenty_test.target)"
   ]
  },
  {
   "cell_type": "markdown",
   "metadata": {},
   "source": [
    "## SVM"
   ]
  },
  {
   "cell_type": "markdown",
   "metadata": {
    "colab_type": "text",
    "id": "Hplwqe7WwMuX"
   },
   "source": [
    "### Se importa el paquete de SVM, se crea el modelo y entrena con el *training set*"
   ]
  },
  {
   "cell_type": "code",
   "execution_count": 10,
   "metadata": {
    "colab": {
     "base_uri": "https://localhost:8080/",
     "height": 34
    },
    "colab_type": "code",
    "executionInfo": {
     "elapsed": 25069,
     "status": "ok",
     "timestamp": 1597257435855,
     "user": {
      "displayName": "Camilo Gomez",
      "photoUrl": "https://lh3.googleusercontent.com/a-/AOh14Gg0G7H-J8JrAasYtQVEhwRBb8syiDoxr_TKsawFVA=s64",
      "userId": "16922193631229167566"
     },
     "user_tz": 300
    },
    "id": "yilU0dpDrcPL",
    "outputId": "45947db1-77d9-471e-ccc2-2413f979c90f"
   },
   "outputs": [
    {
     "data": {
      "text/plain": [
       "0.8240839086563994"
      ]
     },
     "execution_count": 10,
     "metadata": {},
     "output_type": "execute_result"
    }
   ],
   "source": [
    "# Training Support Vector Machines - SVM and calculating its performance\n",
    "\n",
    "from sklearn.linear_model import SGDClassifier\n",
    "text_clf_svm = Pipeline([('vect', CountVectorizer()), ('tfidf', TfidfTransformer()),\n",
    "                         ('clf-svm', SGDClassifier(loss='hinge', penalty='l2',alpha=1e-3, max_iter=15, random_state=42))])\n",
    "\n",
    "text_clf_svm = text_clf_svm.fit(twenty_train.data, twenty_train.target)\n",
    "predicted_svm = text_clf_svm.predict(twenty_test.data)\n",
    "np.mean(predicted_svm == twenty_test.target)"
   ]
  },
  {
   "cell_type": "markdown",
   "metadata": {
    "colab_type": "text",
    "id": "8B76IAERrcPP"
   },
   "source": [
    "## Como este modelo tiene buen resultado, se procede a predecir el texto que queremos"
   ]
  },
  {
   "cell_type": "code",
   "execution_count": 11,
   "metadata": {
    "colab": {},
    "colab_type": "code",
    "executionInfo": {
     "elapsed": 25060,
     "status": "ok",
     "timestamp": 1597257435857,
     "user": {
      "displayName": "Camilo Gomez",
      "photoUrl": "https://lh3.googleusercontent.com/a-/AOh14Gg0G7H-J8JrAasYtQVEhwRBb8syiDoxr_TKsawFVA=s64",
      "userId": "16922193631229167566"
     },
     "user_tz": 300
    },
    "id": "IxHRfLfurcPP"
   },
   "outputs": [],
   "source": [
    "text_1 = \"A multidisciplinary team from two Johns Hopkins University institutions, including neurotoxicologists and virologists from the Bloomberg School of Public Health and infectious disease specialists from the school of medicine, has found that organoids (tiny tissue cultures made from human cells that simulate whole organs) known as mini-brains can be infected by the SARS-CoV-2 virus that causes COVID-19. \\n The results, which suggest that the virus can infect human brain cells, were published online June 26, 2020, in the journal ALTEX: Alternatives to Animal Experimentation. \\n Early reports from Wuhan, China, the origin of the COVID-19 pandemic, have suggested that 36% of patients with the disease show neurological symptoms, but it has been unclear whether or not the virus infects human brain cells. In their study, the Johns Hopkins researchers demonstrated that certain human neurons express a receptor, ACE2, which is the same one that the SARS-CoV-2 virus uses to enter the lungs. Therefore, they surmised, ACE2 also might provide access to the brain.\"\n",
    "class_1 = \"Medicina\"\n",
    "\n",
    "text_2 = \"Vatican City, Jun 30, 2020 / 07:10 am MT (CNA).- The world needs media that can help young people to distinguish between good and evil, presenting the facts in a clear and unbiased way, Pope Francis said Tuesday.In a June 30 message to members of the Catholic Press Association, the pope appealed to Catholic journalists to help break down barriers of misunderstanding between people. We need media capable of building bridges, defending life and breaking down the walls, visible and invisible, that prevent sincere dialogue and truthful communication between individuals and communities he wrote.\\n We need media that can help people, especially the young, to distinguish good from evil, to develop sound judgments based on a clear and unbiased presentation of the facts, and to understand the importance of working for justice, social concord and respect for our common home.\"\n",
    "class_2 = \"Religion\"\n",
    "\n",
    "text_3 = \"High school baseball in Japan is a noisy, communal, hyperkinetic affair. It starts right away, as coaches hit pregame infield practice with three baseballs going at once, one after another after another, and the constant collision of chatter resembles an aviary. It's difficult to square this raucous spectacle with the perception of baseball in America, where detractors see a staid, inert sport incapable of capturing the attention of the terminally inattentive. \\n Every baseball field in Japan is considered sacred ground, and before each game the players gather in a ruler-straight line in front of their dugouts and bow to the earth to thank it for providing the canvas for their endeavor. It's deep, and it's portrayed in riveting detail in Koshien: Japan's Field of Dreams, a documentary that premieres at 7 p.m. Monday on ESPN. It highlights a difficult truth: There is very little levity that comes with playing high school baseball at a high level in Japan; it is a task filled with regimented training and complete devotion, heavy responsibility and historical accountability.\"\n",
    "class_3 = \"Baseball\"\n",
    "\n",
    "text = (text_1, text_2, text_3)"
   ]
  },
  {
   "cell_type": "code",
   "execution_count": 12,
   "metadata": {
    "colab": {},
    "colab_type": "code",
    "executionInfo": {
     "elapsed": 25049,
     "status": "ok",
     "timestamp": 1597257435859,
     "user": {
      "displayName": "Camilo Gomez",
      "photoUrl": "https://lh3.googleusercontent.com/a-/AOh14Gg0G7H-J8JrAasYtQVEhwRBb8syiDoxr_TKsawFVA=s64",
      "userId": "16922193631229167566"
     },
     "user_tz": 300
    },
    "id": "bZBOZjdlrcPZ"
   },
   "outputs": [],
   "source": [
    "predict_workshop = text_clf_svm.predict(text)"
   ]
  },
  {
   "cell_type": "code",
   "execution_count": 13,
   "metadata": {
    "colab": {
     "base_uri": "https://localhost:8080/",
     "height": 34
    },
    "colab_type": "code",
    "executionInfo": {
     "elapsed": 25034,
     "status": "ok",
     "timestamp": 1597257435860,
     "user": {
      "displayName": "Camilo Gomez",
      "photoUrl": "https://lh3.googleusercontent.com/a-/AOh14Gg0G7H-J8JrAasYtQVEhwRBb8syiDoxr_TKsawFVA=s64",
      "userId": "16922193631229167566"
     },
     "user_tz": 300
    },
    "id": "Quvp90DPrcPc",
    "outputId": "d9059ec6-4040-4185-b09a-d78fb5e37692"
   },
   "outputs": [
    {
     "name": "stdout",
     "output_type": "stream",
     "text": [
      "[('Medicina', 'sci.med'), ('Religion', 'soc.religion.christian'), ('Baseball', 'rec.sport.baseball')]\n"
     ]
    }
   ],
   "source": [
    "predict = [twenty_train.target_names[element] for element in predict_workshop]\n",
    "print(list(zip((class_1, class_2, class_3), predict)))"
   ]
  },
  {
   "cell_type": "markdown",
   "metadata": {
    "colab_type": "text",
    "id": "BznRjzo_tkuw"
   },
   "source": [
    "Basado en *https://towardsdatascience.com/machine-learning-nlp-text-classification-using-scikit-learn-python-and-nltk-c52b92a7c73a*"
   ]
  },
  {
   "cell_type": "code",
   "execution_count": null,
   "metadata": {
    "colab": {},
    "colab_type": "code",
    "id": "127VQvTUtn5R"
   },
   "outputs": [],
   "source": []
  }
 ],
 "metadata": {
  "colab": {
   "collapsed_sections": [
    "1Xx4AK7grcPf"
   ],
   "name": "5. Text_Classification.ipynb",
   "provenance": []
  },
  "kernelspec": {
   "display_name": "Python 3",
   "language": "python",
   "name": "python3"
  },
  "language_info": {
   "codemirror_mode": {
    "name": "ipython",
    "version": 3
   },
   "file_extension": ".py",
   "mimetype": "text/x-python",
   "name": "python",
   "nbconvert_exporter": "python",
   "pygments_lexer": "ipython3",
   "version": "3.7.4"
  }
 },
 "nbformat": 4,
 "nbformat_minor": 1
}
