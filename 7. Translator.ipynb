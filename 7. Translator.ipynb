{
 "cells": [
  {
   "cell_type": "markdown",
   "metadata": {
    "colab_type": "text",
    "id": "FBwA6bHdUtW-"
   },
   "source": [
    "# Traductor usando Python"
   ]
  },
  {
   "cell_type": "markdown",
   "metadata": {
    "colab_type": "text",
    "id": "jlcRkfgJf5Qg"
   },
   "source": [
    "## Instalar el paquete necesario"
   ]
  },
  {
   "cell_type": "code",
   "execution_count": 6,
   "metadata": {
    "colab": {
     "base_uri": "https://localhost:8080/",
     "height": 768
    },
    "colab_type": "code",
    "executionInfo": {
     "elapsed": 9773,
     "status": "ok",
     "timestamp": 1594313077640,
     "user": {
      "displayName": "Camilo Gomez",
      "photoUrl": "https://lh3.googleusercontent.com/a-/AOh14Gg0G7H-J8JrAasYtQVEhwRBb8syiDoxr_TKsawFVA=s64",
      "userId": "16922193631229167566"
     },
     "user_tz": 300
    },
    "id": "Wy3-GLrVKvJm",
    "outputId": "f92f2eaa-ae6f-45a3-80b2-e64aac395fc3"
   },
   "outputs": [],
   "source": [
    "#!pip install googletrans"
   ]
  },
  {
   "cell_type": "markdown",
   "metadata": {
    "colab_type": "text",
    "id": "gxnJ0GcJJ8s9"
   },
   "source": [
    "## Se importan las librerías necesarias"
   ]
  },
  {
   "cell_type": "code",
   "execution_count": 7,
   "metadata": {
    "colab": {},
    "colab_type": "code",
    "id": "eY682mm4cv2R"
   },
   "outputs": [],
   "source": [
    "import googletrans\n",
    "from googletrans import Translator\n",
    "#print(googletrans.LANGUAGES)"
   ]
  },
  {
   "cell_type": "markdown",
   "metadata": {
    "colab_type": "text",
    "id": "-EeJt8AyfVYC"
   },
   "source": [
    "## Se crea una clase Translator y se llama la función 'translate'"
   ]
  },
  {
   "cell_type": "code",
   "execution_count": 8,
   "metadata": {
    "colab": {},
    "colab_type": "code",
    "id": "VZhiAGN7cOUe"
   },
   "outputs": [],
   "source": [
    "translator = Translator()"
   ]
  },
  {
   "cell_type": "code",
   "execution_count": 9,
   "metadata": {
    "colab": {},
    "colab_type": "code",
    "id": "cqvHNpcJehKa"
   },
   "outputs": [],
   "source": [
    "result = translator.translate('Quiero comprar un pan por favor', src='es', dest='de')"
   ]
  },
  {
   "cell_type": "code",
   "execution_count": 10,
   "metadata": {
    "colab": {
     "base_uri": "https://localhost:8080/",
     "height": 85
    },
    "colab_type": "code",
    "executionInfo": {
     "elapsed": 473,
     "status": "ok",
     "timestamp": 1594313379003,
     "user": {
      "displayName": "Camilo Gomez",
      "photoUrl": "https://lh3.googleusercontent.com/a-/AOh14Gg0G7H-J8JrAasYtQVEhwRBb8syiDoxr_TKsawFVA=s64",
      "userId": "16922193631229167566"
     },
     "user_tz": 300
    },
    "id": "24YOJ2uielDP",
    "outputId": "894a285d-c247-4f94-eec8-83238a3859ad"
   },
   "outputs": [
    {
     "name": "stdout",
     "output_type": "stream",
     "text": [
      "Idioma original:  es\n",
      "Idioma de destino:  de\n",
      "\n",
      "Quiero comprar un pan por favor\n",
      "Ich möchte bitte ein Brot kaufen\n"
     ]
    }
   ],
   "source": [
    "print(\"Idioma original: \", result.src)\n",
    "print(\"Idioma de destino: \", result.dest)\n",
    "print()\n",
    "print(result.origin)\n",
    "print(result.text)"
   ]
  },
  {
   "cell_type": "markdown",
   "metadata": {
    "colab_type": "text",
    "id": "ITBPR5wGepJL"
   },
   "source": [
    "Tomado de *https://stackabuse.com/text-translation-with-google-translate-api-in-python/*"
   ]
  },
  {
   "cell_type": "code",
   "execution_count": null,
   "metadata": {
    "colab": {},
    "colab_type": "code",
    "id": "mxWDymJkfrLS"
   },
   "outputs": [],
   "source": []
  }
 ],
 "metadata": {
  "colab": {
   "collapsed_sections": [],
   "name": "7. Translator.ipynb",
   "provenance": []
  },
  "kernelspec": {
   "display_name": "Python 3",
   "language": "python",
   "name": "python3"
  },
  "language_info": {
   "codemirror_mode": {
    "name": "ipython",
    "version": 3
   },
   "file_extension": ".py",
   "mimetype": "text/x-python",
   "name": "python",
   "nbconvert_exporter": "python",
   "pygments_lexer": "ipython3",
   "version": "3.7.4"
  }
 },
 "nbformat": 4,
 "nbformat_minor": 1
}
