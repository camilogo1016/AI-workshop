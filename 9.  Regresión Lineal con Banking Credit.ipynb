{
 "cells": [
  {
   "cell_type": "markdown",
   "metadata": {
    "colab_type": "text",
    "id": "lXrfombXK5G-"
   },
   "source": [
    "# Predicción cuantitativa"
   ]
  },
  {
   "cell_type": "markdown",
   "metadata": {
    "colab_type": "text",
    "id": "TVVWjMTMkA5O"
   },
   "source": [
    "### Importar las librerías"
   ]
  },
  {
   "cell_type": "code",
   "execution_count": 2,
   "metadata": {
    "colab": {},
    "colab_type": "code",
    "id": "goGDQl6BK5G_"
   },
   "outputs": [],
   "source": [
    "import pandas as pd\n",
    "import numpy as np\n",
    "\n",
    "from sklearn.datasets import load_boston\n",
    "\n",
    "from sklearn.svm import SVR\n",
    "from sklearn.tree import DecisionTreeRegressor\n",
    "from sklearn.model_selection import train_test_split\n",
    "from sklearn.ensemble import RandomForestRegressor\n",
    "\n",
    "from sklearn.metrics import r2_score"
   ]
  },
  {
   "cell_type": "markdown",
   "metadata": {
    "colab_type": "text",
    "id": "sWDkzy8pkE5i"
   },
   "source": [
    "### Se importa el dataset y se organiza el dataset"
   ]
  },
  {
   "cell_type": "code",
   "execution_count": 3,
   "metadata": {
    "colab": {},
    "colab_type": "code",
    "id": "uFeFIoApSOR3"
   },
   "outputs": [],
   "source": [
    "X, Y = load_boston(return_X_y=True)\n",
    "col_name = [\"crim\", \"zn\", \"indus\", \"chas\", \"nox\", \"rm\", \"age\", \"dis\", \"rad\", \"tax\", \"ptratio\", \"black\", \"lstat\"]\n",
    "\n",
    "X = pd.DataFrame(X)\n",
    "X.columns=col_name"
   ]
  },
  {
   "cell_type": "markdown",
   "metadata": {},
   "source": [
    "## Siempre analizar y entender con lo que estamos trabajando"
   ]
  },
  {
   "cell_type": "code",
   "execution_count": 4,
   "metadata": {},
   "outputs": [
    {
     "data": {
      "text/html": [
       "<div>\n",
       "<style scoped>\n",
       "    .dataframe tbody tr th:only-of-type {\n",
       "        vertical-align: middle;\n",
       "    }\n",
       "\n",
       "    .dataframe tbody tr th {\n",
       "        vertical-align: top;\n",
       "    }\n",
       "\n",
       "    .dataframe thead th {\n",
       "        text-align: right;\n",
       "    }\n",
       "</style>\n",
       "<table border=\"1\" class=\"dataframe\">\n",
       "  <thead>\n",
       "    <tr style=\"text-align: right;\">\n",
       "      <th></th>\n",
       "      <th>crim</th>\n",
       "      <th>zn</th>\n",
       "      <th>indus</th>\n",
       "      <th>chas</th>\n",
       "      <th>nox</th>\n",
       "      <th>rm</th>\n",
       "      <th>age</th>\n",
       "      <th>dis</th>\n",
       "      <th>rad</th>\n",
       "      <th>tax</th>\n",
       "      <th>ptratio</th>\n",
       "      <th>black</th>\n",
       "      <th>lstat</th>\n",
       "      <th>INCOME</th>\n",
       "    </tr>\n",
       "  </thead>\n",
       "  <tbody>\n",
       "    <tr>\n",
       "      <td>0</td>\n",
       "      <td>0.00632</td>\n",
       "      <td>18.0</td>\n",
       "      <td>2.31</td>\n",
       "      <td>0.0</td>\n",
       "      <td>0.538</td>\n",
       "      <td>6.575</td>\n",
       "      <td>65.2</td>\n",
       "      <td>4.0900</td>\n",
       "      <td>1.0</td>\n",
       "      <td>296.0</td>\n",
       "      <td>15.3</td>\n",
       "      <td>396.90</td>\n",
       "      <td>4.98</td>\n",
       "      <td>24.0</td>\n",
       "    </tr>\n",
       "    <tr>\n",
       "      <td>1</td>\n",
       "      <td>0.02731</td>\n",
       "      <td>0.0</td>\n",
       "      <td>7.07</td>\n",
       "      <td>0.0</td>\n",
       "      <td>0.469</td>\n",
       "      <td>6.421</td>\n",
       "      <td>78.9</td>\n",
       "      <td>4.9671</td>\n",
       "      <td>2.0</td>\n",
       "      <td>242.0</td>\n",
       "      <td>17.8</td>\n",
       "      <td>396.90</td>\n",
       "      <td>9.14</td>\n",
       "      <td>21.6</td>\n",
       "    </tr>\n",
       "    <tr>\n",
       "      <td>2</td>\n",
       "      <td>0.02729</td>\n",
       "      <td>0.0</td>\n",
       "      <td>7.07</td>\n",
       "      <td>0.0</td>\n",
       "      <td>0.469</td>\n",
       "      <td>7.185</td>\n",
       "      <td>61.1</td>\n",
       "      <td>4.9671</td>\n",
       "      <td>2.0</td>\n",
       "      <td>242.0</td>\n",
       "      <td>17.8</td>\n",
       "      <td>392.83</td>\n",
       "      <td>4.03</td>\n",
       "      <td>34.7</td>\n",
       "    </tr>\n",
       "    <tr>\n",
       "      <td>3</td>\n",
       "      <td>0.03237</td>\n",
       "      <td>0.0</td>\n",
       "      <td>2.18</td>\n",
       "      <td>0.0</td>\n",
       "      <td>0.458</td>\n",
       "      <td>6.998</td>\n",
       "      <td>45.8</td>\n",
       "      <td>6.0622</td>\n",
       "      <td>3.0</td>\n",
       "      <td>222.0</td>\n",
       "      <td>18.7</td>\n",
       "      <td>394.63</td>\n",
       "      <td>2.94</td>\n",
       "      <td>33.4</td>\n",
       "    </tr>\n",
       "    <tr>\n",
       "      <td>4</td>\n",
       "      <td>0.06905</td>\n",
       "      <td>0.0</td>\n",
       "      <td>2.18</td>\n",
       "      <td>0.0</td>\n",
       "      <td>0.458</td>\n",
       "      <td>7.147</td>\n",
       "      <td>54.2</td>\n",
       "      <td>6.0622</td>\n",
       "      <td>3.0</td>\n",
       "      <td>222.0</td>\n",
       "      <td>18.7</td>\n",
       "      <td>396.90</td>\n",
       "      <td>5.33</td>\n",
       "      <td>36.2</td>\n",
       "    </tr>\n",
       "  </tbody>\n",
       "</table>\n",
       "</div>"
      ],
      "text/plain": [
       "      crim    zn  indus  chas    nox     rm   age     dis  rad    tax  \\\n",
       "0  0.00632  18.0   2.31   0.0  0.538  6.575  65.2  4.0900  1.0  296.0   \n",
       "1  0.02731   0.0   7.07   0.0  0.469  6.421  78.9  4.9671  2.0  242.0   \n",
       "2  0.02729   0.0   7.07   0.0  0.469  7.185  61.1  4.9671  2.0  242.0   \n",
       "3  0.03237   0.0   2.18   0.0  0.458  6.998  45.8  6.0622  3.0  222.0   \n",
       "4  0.06905   0.0   2.18   0.0  0.458  7.147  54.2  6.0622  3.0  222.0   \n",
       "\n",
       "   ptratio   black  lstat  INCOME  \n",
       "0     15.3  396.90   4.98    24.0  \n",
       "1     17.8  396.90   9.14    21.6  \n",
       "2     17.8  392.83   4.03    34.7  \n",
       "3     18.7  394.63   2.94    33.4  \n",
       "4     18.7  396.90   5.33    36.2  "
      ]
     },
     "execution_count": 4,
     "metadata": {},
     "output_type": "execute_result"
    }
   ],
   "source": [
    "df = X\n",
    "df[\"INCOME\"] = Y\n",
    "df.head()"
   ]
  },
  {
   "cell_type": "markdown",
   "metadata": {
    "colab_type": "text",
    "id": "tPFdpAaunCkd"
   },
   "source": [
    "## Se divide el set de entrenamiento (training) y de prueba (testing)"
   ]
  },
  {
   "cell_type": "code",
   "execution_count": 5,
   "metadata": {
    "colab": {},
    "colab_type": "code",
    "id": "3uvNaePZSeLH"
   },
   "outputs": [
    {
     "data": {
      "text/plain": [
       "((203, 14), (303, 14))"
      ]
     },
     "execution_count": 5,
     "metadata": {},
     "output_type": "execute_result"
    }
   ],
   "source": [
    "X_train, X_test, Y_train, Y_test = train_test_split(X, Y, test_size=0.4, random_state=0)\n",
    "\n",
    "X_test.shape, X_train.shape"
   ]
  },
  {
   "cell_type": "markdown",
   "metadata": {
    "colab_type": "text",
    "id": "dV053Gwsq3Bh"
   },
   "source": [
    "## Usemos un modelo de SVM para la predicción"
   ]
  },
  {
   "cell_type": "code",
   "execution_count": 6,
   "metadata": {
    "colab": {},
    "colab_type": "code",
    "id": "a5xcKvOXq6kf"
   },
   "outputs": [],
   "source": [
    "C = 1e3\n",
    "\n",
    "svr_rbf = SVR(kernel=\"rbf\", C=C, gamma=0.001).fit(X_train, Y_train)"
   ]
  },
  {
   "cell_type": "markdown",
   "metadata": {
    "colab_type": "text",
    "id": "Q5vKpPTxsoHI"
   },
   "source": [
    "#### Con el Training set el coef. R2 es de 0.99"
   ]
  },
  {
   "cell_type": "code",
   "execution_count": 7,
   "metadata": {
    "colab": {
     "base_uri": "https://localhost:8080/",
     "height": 34
    },
    "colab_type": "code",
    "executionInfo": {
     "elapsed": 723,
     "status": "ok",
     "timestamp": 1595558486068,
     "user": {
      "displayName": "Camilo Gomez",
      "photoUrl": "https://lh3.googleusercontent.com/a-/AOh14Gg0G7H-J8JrAasYtQVEhwRBb8syiDoxr_TKsawFVA=s64",
      "userId": "16922193631229167566"
     },
     "user_tz": 300
    },
    "id": "bPEO7joBrQbU",
    "outputId": "c4dad44b-fc64-4001-e2a4-471756211564"
   },
   "outputs": [
    {
     "data": {
      "text/plain": [
       "0.9998939754134802"
      ]
     },
     "execution_count": 7,
     "metadata": {},
     "output_type": "execute_result"
    }
   ],
   "source": [
    "y_rbf = svr_rbf.predict(X_train)\n",
    "\n",
    "r2_score(Y_train, y_rbf)"
   ]
  },
  {
   "cell_type": "markdown",
   "metadata": {
    "colab_type": "text",
    "id": "SRsHBCpds3W-"
   },
   "source": [
    "#### Con el Testing set el coef. R2 es de 0.64, esto nos dice que el modelo podría estar *overfitted* (sobreajustado) pero funciona bien con los datos de prueba"
   ]
  },
  {
   "cell_type": "code",
   "execution_count": 8,
   "metadata": {
    "colab": {
     "base_uri": "https://localhost:8080/",
     "height": 34
    },
    "colab_type": "code",
    "executionInfo": {
     "elapsed": 433,
     "status": "ok",
     "timestamp": 1595558487874,
     "user": {
      "displayName": "Camilo Gomez",
      "photoUrl": "https://lh3.googleusercontent.com/a-/AOh14Gg0G7H-J8JrAasYtQVEhwRBb8syiDoxr_TKsawFVA=s64",
      "userId": "16922193631229167566"
     },
     "user_tz": 300
    },
    "id": "e4WwHFxpsJC_",
    "outputId": "c4b4e238-4470-4aab-fbc7-537e35e12a4f"
   },
   "outputs": [
    {
     "data": {
      "text/plain": [
       "0.9005127991919668"
      ]
     },
     "execution_count": 8,
     "metadata": {},
     "output_type": "execute_result"
    }
   ],
   "source": [
    "y_rbf_test = svr_rbf.predict(X_test)\n",
    "\n",
    "r2_score(Y_test, y_rbf_test)"
   ]
  },
  {
   "cell_type": "markdown",
   "metadata": {
    "colab_type": "text",
    "id": "JAbsUkHmnIX4"
   },
   "source": [
    "## Compararlo con un modelo de Árbol de Decisión"
   ]
  },
  {
   "cell_type": "markdown",
   "metadata": {},
   "source": [
    "![Imagen](https://sites.google.com/site/cursofpeanalistafuncional/_/rsrc/1303380940956/arboles-de-decision/00%20arboles%20de%20decision.png)\n",
    "Tomado de Google Sites"
   ]
  },
  {
   "cell_type": "code",
   "execution_count": 9,
   "metadata": {
    "colab": {},
    "colab_type": "code",
    "id": "CSY38nKOK5HN"
   },
   "outputs": [],
   "source": [
    "regtree = DecisionTreeRegressor(min_samples_split=30, min_samples_leaf=10, max_depth=5, random_state=0)"
   ]
  },
  {
   "cell_type": "code",
   "execution_count": 10,
   "metadata": {
    "colab": {
     "base_uri": "https://localhost:8080/",
     "height": 119
    },
    "colab_type": "code",
    "executionInfo": {
     "elapsed": 664,
     "status": "ok",
     "timestamp": 1595556794551,
     "user": {
      "displayName": "Camilo Gomez",
      "photoUrl": "https://lh3.googleusercontent.com/a-/AOh14Gg0G7H-J8JrAasYtQVEhwRBb8syiDoxr_TKsawFVA=s64",
      "userId": "16922193631229167566"
     },
     "user_tz": 300
    },
    "id": "wYLd_D0mK5HP",
    "outputId": "0f2b7a27-c523-4064-ccfa-c5118d89e461"
   },
   "outputs": [
    {
     "data": {
      "text/plain": [
       "DecisionTreeRegressor(ccp_alpha=0.0, criterion='mse', max_depth=5,\n",
       "                      max_features=None, max_leaf_nodes=None,\n",
       "                      min_impurity_decrease=0.0, min_impurity_split=None,\n",
       "                      min_samples_leaf=10, min_samples_split=30,\n",
       "                      min_weight_fraction_leaf=0.0, presort='deprecated',\n",
       "                      random_state=0, splitter='best')"
      ]
     },
     "execution_count": 10,
     "metadata": {},
     "output_type": "execute_result"
    }
   ],
   "source": [
    "regtree.fit(X_train,Y_train)"
   ]
  },
  {
   "cell_type": "markdown",
   "metadata": {
    "colab_type": "text",
    "id": "RKZOIcXTjtjY"
   },
   "source": [
    "#### El coeficiente de R2 es de 0.85 para el Decision Tree, usando el training set"
   ]
  },
  {
   "cell_type": "code",
   "execution_count": 11,
   "metadata": {
    "colab": {
     "base_uri": "https://localhost:8080/",
     "height": 34
    },
    "colab_type": "code",
    "executionInfo": {
     "elapsed": 535,
     "status": "ok",
     "timestamp": 1595558314131,
     "user": {
      "displayName": "Camilo Gomez",
      "photoUrl": "https://lh3.googleusercontent.com/a-/AOh14Gg0G7H-J8JrAasYtQVEhwRBb8syiDoxr_TKsawFVA=s64",
      "userId": "16922193631229167566"
     },
     "user_tz": 300
    },
    "id": "B7LupNtRjZVP",
    "outputId": "779a7233-cd8a-42da-bfe3-554c72684f3e"
   },
   "outputs": [
    {
     "data": {
      "text/plain": [
       "0.9840434078426445"
      ]
     },
     "execution_count": 11,
     "metadata": {},
     "output_type": "execute_result"
    }
   ],
   "source": [
    "# Usamos el Training set para hacer las predicciones\n",
    "preds = regtree.predict(X_train)\n",
    "\n",
    "r2_score(Y_train, preds)"
   ]
  },
  {
   "cell_type": "markdown",
   "metadata": {
    "colab_type": "text",
    "id": "ZId8_4p2m39c"
   },
   "source": [
    "#### El coeficiente de R2 es de 0.76 usando el testing set"
   ]
  },
  {
   "cell_type": "code",
   "execution_count": 12,
   "metadata": {
    "colab": {
     "base_uri": "https://localhost:8080/",
     "height": 34
    },
    "colab_type": "code",
    "executionInfo": {
     "elapsed": 487,
     "status": "ok",
     "timestamp": 1595558326207,
     "user": {
      "displayName": "Camilo Gomez",
      "photoUrl": "https://lh3.googleusercontent.com/a-/AOh14Gg0G7H-J8JrAasYtQVEhwRBb8syiDoxr_TKsawFVA=s64",
      "userId": "16922193631229167566"
     },
     "user_tz": 300
    },
    "id": "lXTT8qfImQ11",
    "outputId": "ea18fdca-e65a-4728-f33e-26a06e20d06c"
   },
   "outputs": [
    {
     "data": {
      "text/plain": [
       "0.9807734752136296"
      ]
     },
     "execution_count": 12,
     "metadata": {},
     "output_type": "execute_result"
    }
   ],
   "source": [
    "# Usamos el Training set para hacer las predicciones\n",
    "preds = regtree.predict(X_test)\n",
    "\n",
    "r2_score(Y_test, preds)"
   ]
  },
  {
   "cell_type": "markdown",
   "metadata": {
    "colab_type": "text",
    "id": "ScDuaQq8K5Hh"
   },
   "source": [
    "## Compararlo con el modelo de Random Forests"
   ]
  },
  {
   "cell_type": "code",
   "execution_count": 13,
   "metadata": {
    "colab": {
     "base_uri": "https://localhost:8080/",
     "height": 136
    },
    "colab_type": "code",
    "executionInfo": {
     "elapsed": 29333,
     "status": "ok",
     "timestamp": 1595557670739,
     "user": {
      "displayName": "Camilo Gomez",
      "photoUrl": "https://lh3.googleusercontent.com/a-/AOh14Gg0G7H-J8JrAasYtQVEhwRBb8syiDoxr_TKsawFVA=s64",
      "userId": "16922193631229167566"
     },
     "user_tz": 300
    },
    "id": "aM8wj6JpK5Hk",
    "outputId": "a2720ba2-d102-4704-f2d5-f9cbf14492b6"
   },
   "outputs": [
    {
     "data": {
      "text/plain": [
       "RandomForestRegressor(bootstrap=True, ccp_alpha=0.0, criterion='mse',\n",
       "                      max_depth=None, max_features='auto', max_leaf_nodes=None,\n",
       "                      max_samples=None, min_impurity_decrease=0.0,\n",
       "                      min_impurity_split=None, min_samples_leaf=1,\n",
       "                      min_samples_split=2, min_weight_fraction_leaf=0.0,\n",
       "                      n_estimators=10000, n_jobs=2, oob_score=True,\n",
       "                      random_state=None, verbose=0, warm_start=False)"
      ]
     },
     "execution_count": 13,
     "metadata": {},
     "output_type": "execute_result"
    }
   ],
   "source": [
    "forest = RandomForestRegressor(n_jobs=2, oob_score=True, n_estimators=10000)\n",
    "forest.fit(X_train,Y_train)"
   ]
  },
  {
   "cell_type": "markdown",
   "metadata": {
    "colab_type": "text",
    "id": "JZUiMHHdqBy6"
   },
   "source": [
    "#### Esta vez con el training set es 0.98 a diferencia del Decision Tree que era 0.85\n",
    "* Con SVM era de 0.99"
   ]
  },
  {
   "cell_type": "code",
   "execution_count": 14,
   "metadata": {
    "colab": {
     "base_uri": "https://localhost:8080/",
     "height": 34
    },
    "colab_type": "code",
    "executionInfo": {
     "elapsed": 2769,
     "status": "ok",
     "timestamp": 1595558293205,
     "user": {
      "displayName": "Camilo Gomez",
      "photoUrl": "https://lh3.googleusercontent.com/a-/AOh14Gg0G7H-J8JrAasYtQVEhwRBb8syiDoxr_TKsawFVA=s64",
      "userId": "16922193631229167566"
     },
     "user_tz": 300
    },
    "id": "BD_wZ3KEpngn",
    "outputId": "df69c02a-3f45-4d0b-a4a7-03b1b5dd8ab1"
   },
   "outputs": [
    {
     "data": {
      "text/plain": [
       "0.9998873295955403"
      ]
     },
     "execution_count": 14,
     "metadata": {},
     "output_type": "execute_result"
    }
   ],
   "source": [
    "# Usamos el Training set para hacer las predicciones\n",
    "preds_train = forest.predict(X_train)\n",
    "\n",
    "r2_score(Y_train, preds_train)"
   ]
  },
  {
   "cell_type": "markdown",
   "metadata": {
    "colab_type": "text",
    "id": "Uro_5dAIqWMp"
   },
   "source": [
    "#### Esta vez con el testing set es 0.84 a diferencia del Decision Tree que era 0.76 y SVM que era 0.76"
   ]
  },
  {
   "cell_type": "code",
   "execution_count": 15,
   "metadata": {
    "colab": {
     "base_uri": "https://localhost:8080/",
     "height": 34
    },
    "colab_type": "code",
    "executionInfo": {
     "elapsed": 2771,
     "status": "ok",
     "timestamp": 1595558300788,
     "user": {
      "displayName": "Camilo Gomez",
      "photoUrl": "https://lh3.googleusercontent.com/a-/AOh14Gg0G7H-J8JrAasYtQVEhwRBb8syiDoxr_TKsawFVA=s64",
      "userId": "16922193631229167566"
     },
     "user_tz": 300
    },
    "id": "6n26Zypvp6my",
    "outputId": "dac7696f-5ffe-4683-fecd-a0c5103a7a5f"
   },
   "outputs": [
    {
     "data": {
      "text/plain": [
       "0.9993186726953167"
      ]
     },
     "execution_count": 15,
     "metadata": {},
     "output_type": "execute_result"
    }
   ],
   "source": [
    "# Usamos el Testing set para hacer las predicciones\n",
    "preds_test = forest.predict(X_test)\n",
    "\n",
    "r2_score(Y_test, preds_test)"
   ]
  },
  {
   "cell_type": "markdown",
   "metadata": {
    "colab_type": "text",
    "id": "NKrPa3ISK5Ht"
   },
   "source": [
    "### Lo anterior nos dice que, de estos, el mejor modelo es el de Random Forest, ya que tiene un buen resultado con los datos del Training y Testing set"
   ]
  }
 ],
 "metadata": {
  "colab": {
   "collapsed_sections": [],
   "name": "9.  Regresión con Boston Housing.ipynb",
   "provenance": []
  },
  "kernelspec": {
   "display_name": "Python 3",
   "language": "python",
   "name": "python3"
  },
  "language_info": {
   "codemirror_mode": {
    "name": "ipython",
    "version": 3
   },
   "file_extension": ".py",
   "mimetype": "text/x-python",
   "name": "python",
   "nbconvert_exporter": "python",
   "pygments_lexer": "ipython3",
   "version": "3.7.4"
  }
 },
 "nbformat": 4,
 "nbformat_minor": 1
}
